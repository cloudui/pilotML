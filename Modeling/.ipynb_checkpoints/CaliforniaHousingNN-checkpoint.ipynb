{
  "nbformat": 4,
  "nbformat_minor": 0,
  "metadata": {
    "colab": {
      "provenance": []
    },
    "kernelspec": {
      "name": "python3",
      "display_name": "Python 3"
    },
    "language_info": {
      "name": "python"
    }
  },
  "cells": [
    {
      "cell_type": "code",
      "execution_count": 3,
      "metadata": {
        "id": "v8o-Cs-JyWjv"
      },
      "outputs": [],
      "source": [
        "import tensorflow as tf\n",
        "from tensorflow import keras"
      ]
    },
    {
      "cell_type": "code",
      "source": [
        "from sklearn.datasets import fetch_california_housing \n",
        "from sklearn.model_selection import train_test_split \n",
        "from sklearn.preprocessing import StandardScaler"
      ],
      "metadata": {
        "id": "ACa7Xi4pyr2X"
      },
      "execution_count": 4,
      "outputs": []
    },
    {
      "cell_type": "code",
      "source": [
        "housing = fetch_california_housing()\n",
        "\n",
        "\n",
        "X_train_full, X_test, y_train_full, y_test = train_test_split(\n",
        "        housing.data, housing.target)\n",
        "X_train, X_valid, y_train, y_valid = train_test_split(X_train_full, y_train_full)\n",
        "scaler = StandardScaler()\n",
        "X_train_scaled = scaler.fit_transform(X_train)\n",
        "X_valid_scaled = scaler.transform(X_valid)\n",
        "X_test_scaled = scaler.transform(X_test)"
      ],
      "metadata": {
        "id": "CEPb7jshy8l1"
      },
      "execution_count": 5,
      "outputs": []
    },
    {
      "cell_type": "code",
      "source": [
        "model = keras.models.Sequential([\n",
        "  keras.layers.Dense(30, activation=\"relu\", input_shape=X_train.shape[1:]),\n",
        "  keras.layers.Dense(1)\n",
        "])"
      ],
      "metadata": {
        "id": "xgtjimaNzOWw"
      },
      "execution_count": 6,
      "outputs": []
    },
    {
      "cell_type": "code",
      "source": [
        "model.compile(loss=\"mean_squared_error\", optimizer=\"sgd\")\n",
        "history = model.fit(X_train, y_train, epochs=20,\n",
        "                    validation_data=(X_valid, y_valid))"
      ],
      "metadata": {
        "colab": {
          "base_uri": "https://localhost:8080/"
        },
        "id": "aFLBmuokzvci",
        "outputId": "0114bb9f-3ecd-43a5-fbb0-7e6ecacb8eb0"
      },
      "execution_count": 7,
      "outputs": [
        {
          "output_type": "stream",
          "name": "stdout",
          "text": [
            "Epoch 1/20\n",
            "363/363 [==============================] - 2s 2ms/step - loss: 176537982949447574531617062912.0000 - val_loss: 11062216534508099862528.0000\n",
            "Epoch 2/20\n",
            "363/363 [==============================] - 1s 3ms/step - loss: 769952984481304412160.0000 - val_loss: 4720339246383104.0000\n",
            "Epoch 3/20\n",
            "363/363 [==============================] - 1s 3ms/step - loss: 328545201029120.0000 - val_loss: 2014203776.0000\n",
            "Epoch 4/20\n",
            "363/363 [==============================] - 1s 3ms/step - loss: 140193024.0000 - val_loss: 859.2858\n",
            "Epoch 5/20\n",
            "363/363 [==============================] - 1s 2ms/step - loss: 61.1209 - val_loss: 1.3406\n",
            "Epoch 6/20\n",
            "363/363 [==============================] - 1s 2ms/step - loss: 1.3454 - val_loss: 1.3431\n",
            "Epoch 7/20\n",
            "363/363 [==============================] - 1s 2ms/step - loss: 1.3455 - val_loss: 1.3406\n",
            "Epoch 8/20\n",
            "363/363 [==============================] - 1s 2ms/step - loss: 1.3457 - val_loss: 1.3408\n",
            "Epoch 9/20\n",
            "363/363 [==============================] - 1s 2ms/step - loss: 1.3452 - val_loss: 1.3423\n",
            "Epoch 10/20\n",
            "363/363 [==============================] - 1s 2ms/step - loss: 1.3456 - val_loss: 1.3406\n",
            "Epoch 11/20\n",
            "363/363 [==============================] - 1s 2ms/step - loss: 1.3457 - val_loss: 1.3411\n",
            "Epoch 12/20\n",
            "363/363 [==============================] - 1s 2ms/step - loss: 1.3458 - val_loss: 1.3414\n",
            "Epoch 13/20\n",
            "363/363 [==============================] - 1s 2ms/step - loss: 1.3450 - val_loss: 1.3477\n",
            "Epoch 14/20\n",
            "363/363 [==============================] - 1s 2ms/step - loss: 1.3453 - val_loss: 1.3406\n",
            "Epoch 15/20\n",
            "363/363 [==============================] - 1s 2ms/step - loss: 1.3452 - val_loss: 1.3425\n",
            "Epoch 16/20\n",
            "363/363 [==============================] - 1s 2ms/step - loss: 1.3458 - val_loss: 1.3411\n",
            "Epoch 17/20\n",
            "363/363 [==============================] - 1s 3ms/step - loss: 1.3458 - val_loss: 1.3406\n",
            "Epoch 18/20\n",
            "363/363 [==============================] - 1s 3ms/step - loss: 1.3458 - val_loss: 1.3430\n",
            "Epoch 19/20\n",
            "363/363 [==============================] - 1s 3ms/step - loss: 1.3459 - val_loss: 1.3413\n",
            "Epoch 20/20\n",
            "363/363 [==============================] - 1s 2ms/step - loss: 1.3458 - val_loss: 1.3409\n"
          ]
        }
      ]
    },
    {
      "cell_type": "code",
      "source": [
        "mse_test = model.evaluate(X_test, y_test)\n",
        "X_new = X_test[:3] # pretend these are new instances \n",
        "y_pred = model.predict(X_new)"
      ],
      "metadata": {
        "colab": {
          "base_uri": "https://localhost:8080/"
        },
        "id": "o8mo3OUHz2UY",
        "outputId": "6a17c0b7-68fe-4f58-8591-ef559ad1ae44"
      },
      "execution_count": 9,
      "outputs": [
        {
          "output_type": "stream",
          "name": "stdout",
          "text": [
            "162/162 [==============================] - 1s 4ms/step - loss: 1.2940\n",
            "1/1 [==============================] - 0s 151ms/step\n"
          ]
        }
      ]
    },
    {
      "cell_type": "code",
      "source": [
        "y_pred"
      ],
      "metadata": {
        "colab": {
          "base_uri": "https://localhost:8080/"
        },
        "id": "Oe-yblWq0CjN",
        "outputId": "40a0e569-2f40-4f0d-c807-bb09867965ed"
      },
      "execution_count": 10,
      "outputs": [
        {
          "output_type": "execute_result",
          "data": {
            "text/plain": [
              "array([[2.074965],\n",
              "       [2.074965],\n",
              "       [2.074965]], dtype=float32)"
            ]
          },
          "metadata": {},
          "execution_count": 10
        }
      ]
    },
    {
      "cell_type": "code",
      "source": [
        "y_test[:3]"
      ],
      "metadata": {
        "colab": {
          "base_uri": "https://localhost:8080/"
        },
        "id": "y30u38J50Gf1",
        "outputId": "0ee6e28e-1ac2-485c-e15c-772cfc9a7c92"
      },
      "execution_count": 14,
      "outputs": [
        {
          "output_type": "execute_result",
          "data": {
            "text/plain": [
              "array([1.918, 1.563, 0.543])"
            ]
          },
          "metadata": {},
          "execution_count": 14
        }
      ]
    },
    {
      "cell_type": "code",
      "source": [
        "import pandas as pd\n",
        "import matplotlib.pyplot as plt\n",
        "\n",
        "pd.DataFrame(history.history).plot(figsize=(8, 5)) \n",
        "plt.grid(True)\n",
        "plt.gca().set_ylim(0, 100) # set the vertical range to [0-1] \n",
        "plt.show()"
      ],
      "metadata": {
        "colab": {
          "base_uri": "https://localhost:8080/",
          "height": 324
        },
        "id": "2w2jnsyM0JGd",
        "outputId": "0e6529ab-af4e-48d0-aecf-956d18cec40e"
      },
      "execution_count": 19,
      "outputs": [
        {
          "output_type": "display_data",
          "data": {
            "text/plain": [
              "<Figure size 576x360 with 1 Axes>"
            ],
            "image/png": "[encoded data removed]"
          },
          "metadata": {
            "needs_background": "light"
          }
        }
      ]
    }
  ]
}
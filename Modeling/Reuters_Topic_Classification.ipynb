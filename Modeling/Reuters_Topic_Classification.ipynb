{
 "cells": [
  {
   "cell_type": "markdown",
   "id": "5ec9c0f4-2fe1-4efc-988d-961235020a62",
   "metadata": {},
   "source": [
    "# Reuters News Article Topic Classification \n",
    "\n",
    "François Chollet's \"Deep Learning with Python\", Chapter 5."
   ]
  },
  {
   "cell_type": "code",
   "execution_count": 1,
   "id": "cef3a219-9e2b-4797-87fa-4c50e24034b8",
   "metadata": {},
   "outputs": [],
   "source": [
    "from tensorflow.keras.datasets import reuters"
   ]
  },
  {
   "cell_type": "markdown",
   "id": "c6c8c672-7c78-4d66-b77d-42fc44f16308",
   "metadata": {},
   "source": [
    "## Download and Clean Data"
   ]
  },
  {
   "cell_type": "code",
   "execution_count": 2,
   "id": "8623a93d-5259-405a-bd03-c50da21af0a7",
   "metadata": {},
   "outputs": [
    {
     "name": "stdout",
     "output_type": "stream",
     "text": [
      "Downloading data from https://storage.googleapis.com/tensorflow/tf-keras-datasets/reuters.npz\n",
      "2110848/2110848 [==============================] - 1s 0us/step\n"
     ]
    }
   ],
   "source": [
    "(train_data, train_labels), (test_data, test_labels) = reuters.load_data(num_words=10000)"
   ]
  },
  {
   "cell_type": "code",
   "execution_count": 5,
   "id": "3b1d300d-c55f-49b5-b82f-b5e21ebde188",
   "metadata": {},
   "outputs": [
    {
     "name": "stdout",
     "output_type": "stream",
     "text": [
      "Train data size: 8982\n",
      "Test data size: 2246\n"
     ]
    }
   ],
   "source": [
    "print(f'Train data size: {len(train_data)}')\n",
    "print(f'Test data size: {len(test_data)}')"
   ]
  },
  {
   "cell_type": "code",
   "execution_count": 8,
   "id": "4c02911d-0aa6-4be3-b312-ac051a9ba542",
   "metadata": {},
   "outputs": [
    {
     "name": "stdout",
     "output_type": "stream",
     "text": [
      "[1, 245, 273, 207, 156, 53, 74, 160, 26, 14, 46, 296, 26, 39, 74, 2979, 3554, 14, 46, 4689, 4329, 86, 61, 3499, 4795, 14, 61, 451, 4329, 17, 12]\n"
     ]
    }
   ],
   "source": [
    "print(train_data[10])"
   ]
  },
  {
   "cell_type": "code",
   "execution_count": 7,
   "id": "46fd721e-b141-462c-8925-1eba22b7d405",
   "metadata": {},
   "outputs": [
    {
     "name": "stdout",
     "output_type": "stream",
     "text": [
      "Downloading data from https://storage.googleapis.com/tensorflow/tf-keras-datasets/reuters_word_index.json\n",
      "550378/550378 [==============================] - 1s 2us/step\n"
     ]
    }
   ],
   "source": [
    "word_index = reuters.get_word_index()"
   ]
  },
  {
   "cell_type": "markdown",
   "id": "8255754f-cc44-45f5-a4a5-7fac977c8937",
   "metadata": {},
   "source": [
    "Reverse dictionary word mapping"
   ]
  },
  {
   "cell_type": "code",
   "execution_count": 9,
   "id": "aad7d8a7-ed60-4017-8981-fda8707eeafe",
   "metadata": {},
   "outputs": [],
   "source": [
    "reverse_word_index = dict(\n",
    "    [(value, key) for (key, value) in word_index.items()]\n",
    ")\n",
    "decoded_newswire = \" \".join(\n",
    "    [reverse_word_index.get(i - 3, \"?\") for i in train_data[0]]\n",
    ")"
   ]
  },
  {
   "cell_type": "code",
   "execution_count": 11,
   "id": "e3ed1b1a-f40c-40ac-8a1c-179cf884bcc2",
   "metadata": {},
   "outputs": [
    {
     "data": {
      "text/plain": [
       "'? ? ? said as a result of its december acquisition of space co it expects earnings per share in 1987 of 1 15 to 1 30 dlrs per share up from 70 cts in 1986 the company said pretax net should rise to nine to 10 mln dlrs from six mln dlrs in 1986 and rental operation revenues to 19 to 22 mln dlrs from 12 5 mln dlrs it said cash flow per share this year should be 2 50 to three dlrs reuter 3'"
      ]
     },
     "execution_count": 11,
     "metadata": {},
     "output_type": "execute_result"
    }
   ],
   "source": [
    "decoded_newswire"
   ]
  },
  {
   "cell_type": "markdown",
   "id": "2d5d7233-3d38-4217-bf6e-52960ec754ce",
   "metadata": {},
   "source": [
    "### Translate input and outputs into one-hot encoding vectors"
   ]
  },
  {
   "cell_type": "code",
   "execution_count": 17,
   "id": "2d3ab464-acea-48cb-8406-8cf98f969e37",
   "metadata": {},
   "outputs": [],
   "source": [
    "import numpy as np\n",
    "def vectorize_sequences(sequences, dimension=10000):\n",
    "    results = np.zeros((len(sequences), dimension))\n",
    "    for i, sequence in enumerate(sequences):\n",
    "        for j in sequence:\n",
    "            results[i, j] = 1\n",
    "    return results\n",
    "\n",
    "def to_one_hot(labels, dimensions=46):\n",
    "    results = np.zeros((len(labels), dimensions))\n",
    "    for i, label in enumerate(labels):\n",
    "        results[i, label] = 1\n",
    "    return results"
   ]
  },
  {
   "cell_type": "markdown",
   "id": "182cfffb-367c-4fcc-a82a-6e66f2d20b54",
   "metadata": {},
   "source": [
    "## Alternative Way of Implementing the `to_one_hot` function\n",
    "```python\n",
    "from tensorflow.keras.utils import to_categorical\n",
    "\n",
    "y_train = to_categorical(train_labels)\n",
    "y_test = to_categorical(test_labels)\n",
    "\n",
    "```"
   ]
  },
  {
   "cell_type": "code",
   "execution_count": 19,
   "id": "d7b0f0a5-456e-4e39-bed3-e01e51593b22",
   "metadata": {},
   "outputs": [],
   "source": [
    "x_train = vectorize_sequences(train_data)\n",
    "x_test = vectorize_sequences(test_data)\n",
    "\n",
    "y_train = to_one_hot(train_labels)\n",
    "y_test = to_one_hot(test_labels)"
   ]
  },
  {
   "cell_type": "markdown",
   "id": "b8f1d7e7-5344-45c5-b332-a66a6cddc22e",
   "metadata": {},
   "source": [
    "## Building the DL Model"
   ]
  },
  {
   "cell_type": "code",
   "execution_count": 45,
   "id": "6b373790-b894-4fd6-8e37-25245eb0722d",
   "metadata": {},
   "outputs": [
    {
     "name": "stdout",
     "output_type": "stream",
     "text": [
      "TensorFlow has access to the following devices:\n",
      "[PhysicalDevice(name='/physical_device:CPU:0', device_type='CPU'), PhysicalDevice(name='/physical_device:GPU:0', device_type='GPU')]\n",
      "TensorFlow version: 2.9.0\n"
     ]
    }
   ],
   "source": [
    "import tensorflow as tf\n",
    "from tensorflow import keras\n",
    "from tensorflow.keras import layers\n",
    "\n",
    "# Check for TensorFlow GPU access\n",
    "print(f\"TensorFlow has access to the following devices:\\n{tf.config.list_physical_devices()}\")\n",
    "\n",
    "# See TensorFlow version\n",
    "print(f\"TensorFlow version: {tf.__version__}\")"
   ]
  },
  {
   "cell_type": "code",
   "execution_count": 23,
   "id": "53fb8091-9efc-47df-983d-3c15d7fc0659",
   "metadata": {},
   "outputs": [],
   "source": [
    "model = keras.Sequential([\n",
    "    layers.Dense(64, activation=\"relu\"),\n",
    "    layers.Dense(64, activation=\"relu\"),\n",
    "    layers.Dense(46, activation=\"softmax\")\n",
    "])"
   ]
  },
  {
   "cell_type": "code",
   "execution_count": 25,
   "id": "eb36a0d6-a33f-44f2-9a7d-b8f4125cc9d7",
   "metadata": {},
   "outputs": [],
   "source": [
    "model.compile(optimizer=\"rmsprop\",\n",
    "              loss=\"categorical_crossentropy\",\n",
    "              metrics=[\"accuracy\"])"
   ]
  },
  {
   "cell_type": "code",
   "execution_count": 27,
   "id": "ff07f67f-274a-460d-ac1b-5b8ea6ae2240",
   "metadata": {},
   "outputs": [],
   "source": [
    "x_val = x_train[:1000]\n",
    "partial_x_train = x_train[1000:]\n",
    "y_val = y_train[:1000]\n",
    "partial_y_train = y_train[1000:]"
   ]
  },
  {
   "cell_type": "code",
   "execution_count": 28,
   "id": "a129cdfa-4344-4af3-b80f-ca8f718e8a3d",
   "metadata": {},
   "outputs": [
    {
     "name": "stdout",
     "output_type": "stream",
     "text": [
      "Epoch 1/20\n"
     ]
    },
    {
     "name": "stderr",
     "output_type": "stream",
     "text": [
      "2023-02-27 14:27:15.314265: W tensorflow/core/platform/profile_utils/cpu_utils.cc:128] Failed to get CPU frequency: 0 Hz\n",
      "2023-02-27 14:27:15.714252: I tensorflow/core/grappler/optimizers/custom_graph_optimizer_registry.cc:113] Plugin optimizer for device_type GPU is enabled.\n"
     ]
    },
    {
     "name": "stdout",
     "output_type": "stream",
     "text": [
      "16/16 [==============================] - 3s 39ms/step - loss: 2.4729 - accuracy: 0.5365 - val_loss: 1.6336 - val_accuracy: 0.6490\n",
      "Epoch 2/20\n",
      " 1/16 [>.............................] - ETA: 0s - loss: 1.4927 - accuracy: 0.6895"
     ]
    },
    {
     "name": "stderr",
     "output_type": "stream",
     "text": [
      "2023-02-27 14:27:17.835181: I tensorflow/core/grappler/optimizers/custom_graph_optimizer_registry.cc:113] Plugin optimizer for device_type GPU is enabled.\n"
     ]
    },
    {
     "name": "stdout",
     "output_type": "stream",
     "text": [
      "16/16 [==============================] - 0s 15ms/step - loss: 1.3499 - accuracy: 0.7119 - val_loss: 1.2802 - val_accuracy: 0.7010\n",
      "Epoch 3/20\n",
      "16/16 [==============================] - 0s 14ms/step - loss: 1.0067 - accuracy: 0.7859 - val_loss: 1.1381 - val_accuracy: 0.7610\n",
      "Epoch 4/20\n",
      "16/16 [==============================] - 0s 13ms/step - loss: 0.7952 - accuracy: 0.8287 - val_loss: 1.0479 - val_accuracy: 0.7640\n",
      "Epoch 5/20\n",
      "16/16 [==============================] - 0s 14ms/step - loss: 0.6320 - accuracy: 0.8667 - val_loss: 0.9619 - val_accuracy: 0.8070\n",
      "Epoch 6/20\n",
      "16/16 [==============================] - 0s 14ms/step - loss: 0.5037 - accuracy: 0.8944 - val_loss: 0.9651 - val_accuracy: 0.8120\n",
      "Epoch 7/20\n",
      "16/16 [==============================] - 0s 14ms/step - loss: 0.4085 - accuracy: 0.9137 - val_loss: 0.9501 - val_accuracy: 0.8040\n",
      "Epoch 8/20\n",
      "16/16 [==============================] - 0s 14ms/step - loss: 0.3343 - accuracy: 0.9270 - val_loss: 0.9241 - val_accuracy: 0.8080\n",
      "Epoch 9/20\n",
      "16/16 [==============================] - 0s 14ms/step - loss: 0.2756 - accuracy: 0.9387 - val_loss: 0.9388 - val_accuracy: 0.8160\n",
      "Epoch 10/20\n",
      "16/16 [==============================] - 0s 26ms/step - loss: 0.2362 - accuracy: 0.9458 - val_loss: 0.9190 - val_accuracy: 0.8150\n",
      "Epoch 11/20\n",
      "16/16 [==============================] - 0s 14ms/step - loss: 0.2007 - accuracy: 0.9484 - val_loss: 0.9464 - val_accuracy: 0.8130\n",
      "Epoch 12/20\n",
      "16/16 [==============================] - 0s 13ms/step - loss: 0.1758 - accuracy: 0.9523 - val_loss: 0.9843 - val_accuracy: 0.8060\n",
      "Epoch 13/20\n",
      "16/16 [==============================] - 0s 13ms/step - loss: 0.1593 - accuracy: 0.9530 - val_loss: 0.9654 - val_accuracy: 0.8240\n",
      "Epoch 14/20\n",
      "16/16 [==============================] - 0s 14ms/step - loss: 0.1449 - accuracy: 0.9562 - val_loss: 1.0000 - val_accuracy: 0.8100\n",
      "Epoch 15/20\n",
      "16/16 [==============================] - 0s 15ms/step - loss: 0.1430 - accuracy: 0.9544 - val_loss: 1.0112 - val_accuracy: 0.8120\n",
      "Epoch 16/20\n",
      "16/16 [==============================] - 0s 14ms/step - loss: 0.1293 - accuracy: 0.9565 - val_loss: 1.1446 - val_accuracy: 0.7840\n",
      "Epoch 17/20\n",
      "16/16 [==============================] - 0s 14ms/step - loss: 0.1225 - accuracy: 0.9578 - val_loss: 1.1404 - val_accuracy: 0.8000\n",
      "Epoch 18/20\n",
      "16/16 [==============================] - 0s 14ms/step - loss: 0.1236 - accuracy: 0.9574 - val_loss: 1.0848 - val_accuracy: 0.8050\n",
      "Epoch 19/20\n",
      "16/16 [==============================] - 0s 13ms/step - loss: 0.1133 - accuracy: 0.9579 - val_loss: 1.0849 - val_accuracy: 0.8070\n",
      "Epoch 20/20\n",
      "16/16 [==============================] - 0s 14ms/step - loss: 0.1129 - accuracy: 0.9562 - val_loss: 1.1382 - val_accuracy: 0.8080\n"
     ]
    }
   ],
   "source": [
    "history = model.fit(partial_x_train,\n",
    "                    partial_y_train,\n",
    "                    epochs=20,\n",
    "                    batch_size=512,\n",
    "                    validation_data=(x_val, y_val))"
   ]
  },
  {
   "cell_type": "markdown",
   "id": "c9cd8c84-a388-4e5d-9eeb-972af14290a4",
   "metadata": {},
   "source": [
    "## Visualizing Training and Validation"
   ]
  },
  {
   "cell_type": "code",
   "execution_count": 30,
   "id": "f9c7a482-fe7a-4be6-a2f7-77e5f98e32cd",
   "metadata": {},
   "outputs": [
    {
     "data": {
      "image/png": "[encoded data removed]",
      "text/plain": [
       "<Figure size 640x480 with 1 Axes>"
      ]
     },
     "metadata": {},
     "output_type": "display_data"
    }
   ],
   "source": [
    "import matplotlib.pyplot as plt\n",
    "\n",
    "loss = history.history[\"loss\"]\n",
    "val_loss = history.history[\"val_loss\"]\n",
    "epochs = range(1, len(loss) + 1)\n",
    "plt.plot(epochs, loss, \"bo\", label=\"Training loss\")\n",
    "plt.plot(epochs, val_loss, \"b\", label=\"Validation loss\")\n",
    "plt.title(\"Training and validation loss\")\n",
    "plt.xlabel(\"Epochs\")\n",
    "plt.ylabel(\"Loss\")\n",
    "plt.legend()\n",
    "plt.show()"
   ]
  },
  {
   "cell_type": "code",
   "execution_count": 31,
   "id": "34075437-2142-4740-b5f8-e1aacecba3a2",
   "metadata": {},
   "outputs": [
    {
     "data": {
      "image/png": "[encoded data removed]",
      "text/plain": [
       "<Figure size 640x480 with 1 Axes>"
      ]
     },
     "metadata": {},
     "output_type": "display_data"
    }
   ],
   "source": [
    "plt.clf()\n",
    "acc = history.history[\"accuracy\"]\n",
    "val_acc = history.history[\"val_accuracy\"]\n",
    "plt.plot(epochs, acc, \"bo\", label=\"Training accuracy\")\n",
    "plt.plot(epochs, val_acc, \"b\", label=\"Validation accuracy\")\n",
    "plt.title(\"Training and validation accuracy\")\n",
    "plt.xlabel(\"Epochs\")\n",
    "plt.ylabel(\"Accuracy\")\n",
    "plt.legend()\n",
    "plt.show()"
   ]
  },
  {
   "cell_type": "markdown",
   "id": "282258f3-49d4-41ac-9f76-50b46cc699ff",
   "metadata": {},
   "source": [
    "## Try to Optimize Overfitting"
   ]
  },
  {
   "cell_type": "code",
   "execution_count": 32,
   "id": "c50e8593-e455-47ab-917a-d6afaf2cf598",
   "metadata": {},
   "outputs": [
    {
     "name": "stdout",
     "output_type": "stream",
     "text": [
      "Epoch 1/9\n",
      " 1/16 [>.............................] - ETA: 4s - loss: 3.8108 - accuracy: 0.0469"
     ]
    },
    {
     "name": "stderr",
     "output_type": "stream",
     "text": [
      "2023-02-27 14:32:09.463994: I tensorflow/core/grappler/optimizers/custom_graph_optimizer_registry.cc:113] Plugin optimizer for device_type GPU is enabled.\n"
     ]
    },
    {
     "name": "stdout",
     "output_type": "stream",
     "text": [
      "16/16 [==============================] - 1s 23ms/step - loss: 2.4544 - accuracy: 0.5427 - val_loss: 1.6302 - val_accuracy: 0.6540\n",
      "Epoch 2/9\n",
      "10/16 [=================>............] - ETA: 0s - loss: 1.4299 - accuracy: 0.6920"
     ]
    },
    {
     "name": "stderr",
     "output_type": "stream",
     "text": [
      "2023-02-27 14:32:09.907539: I tensorflow/core/grappler/optimizers/custom_graph_optimizer_registry.cc:113] Plugin optimizer for device_type GPU is enabled.\n"
     ]
    },
    {
     "name": "stdout",
     "output_type": "stream",
     "text": [
      "16/16 [==============================] - 0s 14ms/step - loss: 1.3482 - accuracy: 0.7091 - val_loss: 1.2856 - val_accuracy: 0.7110\n",
      "Epoch 3/9\n",
      "16/16 [==============================] - 0s 14ms/step - loss: 1.0120 - accuracy: 0.7786 - val_loss: 1.1154 - val_accuracy: 0.7520\n",
      "Epoch 4/9\n",
      "16/16 [==============================] - 0s 15ms/step - loss: 0.8002 - accuracy: 0.8279 - val_loss: 1.0332 - val_accuracy: 0.7770\n",
      "Epoch 5/9\n",
      "16/16 [==============================] - 0s 13ms/step - loss: 0.6368 - accuracy: 0.8652 - val_loss: 0.9830 - val_accuracy: 0.7900\n",
      "Epoch 6/9\n",
      "16/16 [==============================] - 0s 13ms/step - loss: 0.5084 - accuracy: 0.8935 - val_loss: 0.9331 - val_accuracy: 0.8060\n",
      "Epoch 7/9\n",
      "16/16 [==============================] - 0s 14ms/step - loss: 0.4076 - accuracy: 0.9128 - val_loss: 0.9216 - val_accuracy: 0.8110\n",
      "Epoch 8/9\n",
      "16/16 [==============================] - 0s 15ms/step - loss: 0.3347 - accuracy: 0.9290 - val_loss: 0.8970 - val_accuracy: 0.8150\n",
      "Epoch 9/9\n",
      "16/16 [==============================] - 0s 14ms/step - loss: 0.2742 - accuracy: 0.9400 - val_loss: 0.9289 - val_accuracy: 0.8140\n"
     ]
    }
   ],
   "source": [
    "model2 = keras.Sequential([\n",
    "    layers.Dense(64, activation=\"relu\"),\n",
    "    layers.Dense(64, activation=\"relu\"),\n",
    "    layers.Dense(46, activation=\"softmax\")\n",
    "])\n",
    "\n",
    "model2.compile(optimizer=\"rmsprop\",\n",
    "              loss=\"categorical_crossentropy\",\n",
    "              metrics=[\"accuracy\"])\n",
    "\n",
    "history = model2.fit(partial_x_train,\n",
    "                    partial_y_train,\n",
    "                    epochs=9,\n",
    "                    batch_size=512,\n",
    "                    validation_data=(x_val, y_val))"
   ]
  },
  {
   "cell_type": "code",
   "execution_count": 34,
   "id": "21033686-f022-4d79-b0f1-4aec6910fda0",
   "metadata": {},
   "outputs": [
    {
     "name": "stdout",
     "output_type": "stream",
     "text": [
      "71/71 [==============================] - 1s 8ms/step - loss: 0.9953 - accuracy: 0.7796\n"
     ]
    }
   ],
   "source": [
    "results = model2.evaluate(x_test, y_test)"
   ]
  },
  {
   "cell_type": "markdown",
   "id": "3b7726ae-2b24-4b42-9f19-19e7a557c89a",
   "metadata": {},
   "source": [
    "## Evaluation and Testing"
   ]
  },
  {
   "cell_type": "code",
   "execution_count": 35,
   "id": "b6598ee4-23d6-4603-8de9-adf51654e95b",
   "metadata": {},
   "outputs": [
    {
     "data": {
      "text/plain": [
       "[0.9952508211135864, 0.7796081900596619]"
      ]
     },
     "execution_count": 35,
     "metadata": {},
     "output_type": "execute_result"
    }
   ],
   "source": [
    "results"
   ]
  },
  {
   "cell_type": "code",
   "execution_count": 36,
   "id": "bd9546ce-1efe-421b-b917-4db259c54d23",
   "metadata": {},
   "outputs": [
    {
     "data": {
      "text/plain": [
       "0.20213713268032057"
      ]
     },
     "execution_count": 36,
     "metadata": {},
     "output_type": "execute_result"
    }
   ],
   "source": [
    "import copy\n",
    "test_labels_copy = copy.copy(test_labels)\n",
    "np.random.shuffle(test_labels_copy)\n",
    "hits_array = np.array(test_labels) == np.array(test_labels_copy)\n",
    "hits_array.mean()"
   ]
  },
  {
   "cell_type": "code",
   "execution_count": 37,
   "id": "580eb4b9-2153-419a-a149-d4dd244969f3",
   "metadata": {},
   "outputs": [
    {
     "name": "stdout",
     "output_type": "stream",
     "text": [
      "59/71 [=======================>......] - ETA: 0s"
     ]
    },
    {
     "name": "stderr",
     "output_type": "stream",
     "text": [
      "2023-02-27 14:34:45.865405: I tensorflow/core/grappler/optimizers/custom_graph_optimizer_registry.cc:113] Plugin optimizer for device_type GPU is enabled.\n"
     ]
    },
    {
     "name": "stdout",
     "output_type": "stream",
     "text": [
      "71/71 [==============================] - 0s 3ms/step\n"
     ]
    }
   ],
   "source": [
    "predictions = model.predict(x_test)"
   ]
  },
  {
   "cell_type": "code",
   "execution_count": 38,
   "id": "3b3d8e0c-edf4-458e-91fd-e5d68c4d0779",
   "metadata": {},
   "outputs": [
    {
     "data": {
      "text/plain": [
       "array([3.93519394e-06, 8.51463710e-07, 3.33272929e-08, 9.98466134e-01,\n",
       "       1.10359874e-03, 3.84940080e-10, 3.59345026e-10, 1.02113700e-06,\n",
       "       7.23825724e-05, 6.45859188e-09, 3.32845786e-07, 8.07890174e-05,\n",
       "       1.37481375e-05, 1.00341026e-06, 1.78771646e-08, 3.11136716e-07,\n",
       "       1.38225505e-05, 2.09904471e-07, 1.49408470e-06, 1.78631264e-04,\n",
       "       2.60876095e-05, 2.51674865e-05, 4.52147759e-08, 4.96113159e-08,\n",
       "       6.35040021e-09, 1.38059150e-07, 1.20883331e-10, 9.65250280e-09,\n",
       "       1.68037730e-07, 5.89073238e-07, 4.02251771e-07, 6.80269281e-08,\n",
       "       6.91473971e-08, 2.44591325e-09, 2.39002077e-07, 1.78343900e-08,\n",
       "       2.69411180e-06, 1.06289676e-07, 5.01032353e-08, 2.98392166e-07,\n",
       "       2.04214157e-08, 5.30446641e-06, 1.61641012e-09, 2.32229862e-08,\n",
       "       4.37930378e-12, 1.04155767e-07], dtype=float32)"
      ]
     },
     "execution_count": 38,
     "metadata": {},
     "output_type": "execute_result"
    }
   ],
   "source": [
    "predictions[0]"
   ]
  },
  {
   "cell_type": "code",
   "execution_count": 41,
   "id": "26b929d6-ff47-49a6-94c1-9a8c8f429e1b",
   "metadata": {},
   "outputs": [
    {
     "name": "stdout",
     "output_type": "stream",
     "text": [
      "0.9999999\n",
      "3\n"
     ]
    }
   ],
   "source": [
    "print(np.sum(predictions[0]))\n",
    "print(np.argmax(predictions[0]))"
   ]
  },
  {
   "cell_type": "markdown",
   "id": "c5bb1f2b-bcce-4057-afc8-b1122b7553cf",
   "metadata": {},
   "source": [
    "## Handling Integer Categorical Labels\n",
    "```python\n",
    "model.compile(optimizer=\"rmsprop\",\n",
    "              loss=\"sparse_categorical_crossentropy\",\n",
    "metrics=[\"accuracy\"])\n",
    "```"
   ]
  }
 ],
 "metadata": {
  "kernelspec": {
   "display_name": "Python 3 (ipykernel)",
   "language": "python",
   "name": "python3"
  },
  "language_info": {
   "codemirror_mode": {
    "name": "ipython",
    "version": 3
   },
   "file_extension": ".py",
   "mimetype": "text/x-python",
   "name": "python",
   "nbconvert_exporter": "python",
   "pygments_lexer": "ipython3",
   "version": "3.10.9"
  }
 },
 "nbformat": 4,
 "nbformat_minor": 5
}

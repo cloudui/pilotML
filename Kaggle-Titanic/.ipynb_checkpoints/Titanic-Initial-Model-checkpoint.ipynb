{
 "cells": [
  {
   "cell_type": "code",
   "execution_count": 1,
   "metadata": {
    "_cell_guid": "b1076dfc-b9ad-4769-8c92-a6c4dae69d19",
    "_uuid": "8f2839f25d086af736a60e9eeb907d3b93b6e0e5",
    "execution": {
     "iopub.execute_input": "2023-02-25T22:35:57.300131Z",
     "iopub.status.busy": "2023-02-25T22:35:57.299809Z",
     "iopub.status.idle": "2023-02-25T22:35:57.329089Z",
     "shell.execute_reply": "2023-02-25T22:35:57.327786Z",
     "shell.execute_reply.started": "2023-02-25T22:35:57.300100Z"
    }
   },
   "outputs": [
    {
     "name": "stdout",
     "output_type": "stream",
     "text": [
      "/kaggle/input/titanic/train.csv\n",
      "/kaggle/input/titanic/test.csv\n",
      "/kaggle/input/titanic/gender_submission.csv\n"
     ]
    }
   ],
   "source": [
    "# This Python 3 environment comes with many helpful analytics libraries installed\n",
    "# It is defined by the kaggle/python Docker image: https://github.com/kaggle/docker-python\n",
    "# For example, here's several helpful packages to load\n",
    "\n",
    "import numpy as np # linear algebra\n",
    "import pandas as pd # data processing, CSV file I/O (e.g. pd.read_csv)\n",
    "\n",
    "# Input data files are available in the read-only \"../input/\" directory\n",
    "# For example, running this (by clicking run or pressing Shift+Enter) will list all files under the input directory\n",
    "\n",
    "import os\n",
    "for dirname, _, filenames in os.walk('/kaggle/input'):\n",
    "    for filename in filenames:\n",
    "        print(os.path.join(dirname, filename))\n",
    "\n",
    "# You can write up to 20GB to the current directory (/kaggle/working/) that gets preserved as output when you create a version using \"Save & Run All\" \n",
    "# You can also write temporary files to /kaggle/temp/, but they won't be saved outside of the current session"
   ]
  },
  {
   "cell_type": "code",
   "execution_count": 64,
   "metadata": {
    "execution": {
     "iopub.execute_input": "2023-02-25T23:11:36.040507Z",
     "iopub.status.busy": "2023-02-25T23:11:36.040090Z",
     "iopub.status.idle": "2023-02-25T23:11:36.054755Z",
     "shell.execute_reply": "2023-02-25T23:11:36.053953Z",
     "shell.execute_reply.started": "2023-02-25T23:11:36.040469Z"
    }
   },
   "outputs": [],
   "source": [
    "train = pd.read_csv(\"/kaggle/input/titanic/train.csv\")\n",
    "test = pd.read_csv(\"/kaggle/input/titanic/test.csv\")"
   ]
  },
  {
   "cell_type": "code",
   "execution_count": 65,
   "metadata": {
    "execution": {
     "iopub.execute_input": "2023-02-25T23:11:37.519423Z",
     "iopub.status.busy": "2023-02-25T23:11:37.518359Z",
     "iopub.status.idle": "2023-02-25T23:11:37.536408Z",
     "shell.execute_reply": "2023-02-25T23:11:37.535140Z",
     "shell.execute_reply.started": "2023-02-25T23:11:37.519385Z"
    }
   },
   "outputs": [
    {
     "data": {
      "text/html": [
       "<div>\n",
       "<style scoped>\n",
       "    .dataframe tbody tr th:only-of-type {\n",
       "        vertical-align: middle;\n",
       "    }\n",
       "\n",
       "    .dataframe tbody tr th {\n",
       "        vertical-align: top;\n",
       "    }\n",
       "\n",
       "    .dataframe thead th {\n",
       "        text-align: right;\n",
       "    }\n",
       "</style>\n",
       "<table border=\"1\" class=\"dataframe\">\n",
       "  <thead>\n",
       "    <tr style=\"text-align: right;\">\n",
       "      <th></th>\n",
       "      <th>PassengerId</th>\n",
       "      <th>Survived</th>\n",
       "      <th>Pclass</th>\n",
       "      <th>Name</th>\n",
       "      <th>Sex</th>\n",
       "      <th>Age</th>\n",
       "      <th>SibSp</th>\n",
       "      <th>Parch</th>\n",
       "      <th>Ticket</th>\n",
       "      <th>Fare</th>\n",
       "      <th>Cabin</th>\n",
       "      <th>Embarked</th>\n",
       "    </tr>\n",
       "  </thead>\n",
       "  <tbody>\n",
       "    <tr>\n",
       "      <th>0</th>\n",
       "      <td>1</td>\n",
       "      <td>0</td>\n",
       "      <td>3</td>\n",
       "      <td>Braund, Mr. Owen Harris</td>\n",
       "      <td>male</td>\n",
       "      <td>22.0</td>\n",
       "      <td>1</td>\n",
       "      <td>0</td>\n",
       "      <td>A/5 21171</td>\n",
       "      <td>7.2500</td>\n",
       "      <td>NaN</td>\n",
       "      <td>S</td>\n",
       "    </tr>\n",
       "    <tr>\n",
       "      <th>1</th>\n",
       "      <td>2</td>\n",
       "      <td>1</td>\n",
       "      <td>1</td>\n",
       "      <td>Cumings, Mrs. John Bradley (Florence Briggs Th...</td>\n",
       "      <td>female</td>\n",
       "      <td>38.0</td>\n",
       "      <td>1</td>\n",
       "      <td>0</td>\n",
       "      <td>PC 17599</td>\n",
       "      <td>71.2833</td>\n",
       "      <td>C85</td>\n",
       "      <td>C</td>\n",
       "    </tr>\n",
       "    <tr>\n",
       "      <th>2</th>\n",
       "      <td>3</td>\n",
       "      <td>1</td>\n",
       "      <td>3</td>\n",
       "      <td>Heikkinen, Miss. Laina</td>\n",
       "      <td>female</td>\n",
       "      <td>26.0</td>\n",
       "      <td>0</td>\n",
       "      <td>0</td>\n",
       "      <td>STON/O2. 3101282</td>\n",
       "      <td>7.9250</td>\n",
       "      <td>NaN</td>\n",
       "      <td>S</td>\n",
       "    </tr>\n",
       "    <tr>\n",
       "      <th>3</th>\n",
       "      <td>4</td>\n",
       "      <td>1</td>\n",
       "      <td>1</td>\n",
       "      <td>Futrelle, Mrs. Jacques Heath (Lily May Peel)</td>\n",
       "      <td>female</td>\n",
       "      <td>35.0</td>\n",
       "      <td>1</td>\n",
       "      <td>0</td>\n",
       "      <td>113803</td>\n",
       "      <td>53.1000</td>\n",
       "      <td>C123</td>\n",
       "      <td>S</td>\n",
       "    </tr>\n",
       "    <tr>\n",
       "      <th>4</th>\n",
       "      <td>5</td>\n",
       "      <td>0</td>\n",
       "      <td>3</td>\n",
       "      <td>Allen, Mr. William Henry</td>\n",
       "      <td>male</td>\n",
       "      <td>35.0</td>\n",
       "      <td>0</td>\n",
       "      <td>0</td>\n",
       "      <td>373450</td>\n",
       "      <td>8.0500</td>\n",
       "      <td>NaN</td>\n",
       "      <td>S</td>\n",
       "    </tr>\n",
       "  </tbody>\n",
       "</table>\n",
       "</div>"
      ],
      "text/plain": [
       "   PassengerId  Survived  Pclass  \\\n",
       "0            1         0       3   \n",
       "1            2         1       1   \n",
       "2            3         1       3   \n",
       "3            4         1       1   \n",
       "4            5         0       3   \n",
       "\n",
       "                                                Name     Sex   Age  SibSp  \\\n",
       "0                            Braund, Mr. Owen Harris    male  22.0      1   \n",
       "1  Cumings, Mrs. John Bradley (Florence Briggs Th...  female  38.0      1   \n",
       "2                             Heikkinen, Miss. Laina  female  26.0      0   \n",
       "3       Futrelle, Mrs. Jacques Heath (Lily May Peel)  female  35.0      1   \n",
       "4                           Allen, Mr. William Henry    male  35.0      0   \n",
       "\n",
       "   Parch            Ticket     Fare Cabin Embarked  \n",
       "0      0         A/5 21171   7.2500   NaN        S  \n",
       "1      0          PC 17599  71.2833   C85        C  \n",
       "2      0  STON/O2. 3101282   7.9250   NaN        S  \n",
       "3      0            113803  53.1000  C123        S  \n",
       "4      0            373450   8.0500   NaN        S  "
      ]
     },
     "execution_count": 65,
     "metadata": {},
     "output_type": "execute_result"
    }
   ],
   "source": [
    "train.head()"
   ]
  },
  {
   "cell_type": "code",
   "execution_count": 69,
   "metadata": {
    "execution": {
     "iopub.execute_input": "2023-02-25T23:11:59.346026Z",
     "iopub.status.busy": "2023-02-25T23:11:59.345586Z",
     "iopub.status.idle": "2023-02-25T23:11:59.364292Z",
     "shell.execute_reply": "2023-02-25T23:11:59.362962Z",
     "shell.execute_reply.started": "2023-02-25T23:11:59.345987Z"
    }
   },
   "outputs": [
    {
     "data": {
      "text/html": [
       "<div>\n",
       "<style scoped>\n",
       "    .dataframe tbody tr th:only-of-type {\n",
       "        vertical-align: middle;\n",
       "    }\n",
       "\n",
       "    .dataframe tbody tr th {\n",
       "        vertical-align: top;\n",
       "    }\n",
       "\n",
       "    .dataframe thead th {\n",
       "        text-align: right;\n",
       "    }\n",
       "</style>\n",
       "<table border=\"1\" class=\"dataframe\">\n",
       "  <thead>\n",
       "    <tr style=\"text-align: right;\">\n",
       "      <th></th>\n",
       "      <th>PassengerId</th>\n",
       "      <th>Pclass</th>\n",
       "      <th>Name</th>\n",
       "      <th>Sex</th>\n",
       "      <th>Age</th>\n",
       "      <th>SibSp</th>\n",
       "      <th>Parch</th>\n",
       "      <th>Ticket</th>\n",
       "      <th>Fare</th>\n",
       "      <th>Cabin</th>\n",
       "      <th>Embarked</th>\n",
       "      <th>Sex_encoded</th>\n",
       "    </tr>\n",
       "  </thead>\n",
       "  <tbody>\n",
       "    <tr>\n",
       "      <th>0</th>\n",
       "      <td>892</td>\n",
       "      <td>3</td>\n",
       "      <td>Kelly, Mr. James</td>\n",
       "      <td>male</td>\n",
       "      <td>34.5</td>\n",
       "      <td>0</td>\n",
       "      <td>0</td>\n",
       "      <td>330911</td>\n",
       "      <td>7.8292</td>\n",
       "      <td>NaN</td>\n",
       "      <td>Q</td>\n",
       "      <td>1</td>\n",
       "    </tr>\n",
       "    <tr>\n",
       "      <th>1</th>\n",
       "      <td>893</td>\n",
       "      <td>3</td>\n",
       "      <td>Wilkes, Mrs. James (Ellen Needs)</td>\n",
       "      <td>female</td>\n",
       "      <td>47.0</td>\n",
       "      <td>1</td>\n",
       "      <td>0</td>\n",
       "      <td>363272</td>\n",
       "      <td>7.0000</td>\n",
       "      <td>NaN</td>\n",
       "      <td>S</td>\n",
       "      <td>0</td>\n",
       "    </tr>\n",
       "    <tr>\n",
       "      <th>2</th>\n",
       "      <td>894</td>\n",
       "      <td>2</td>\n",
       "      <td>Myles, Mr. Thomas Francis</td>\n",
       "      <td>male</td>\n",
       "      <td>62.0</td>\n",
       "      <td>0</td>\n",
       "      <td>0</td>\n",
       "      <td>240276</td>\n",
       "      <td>9.6875</td>\n",
       "      <td>NaN</td>\n",
       "      <td>Q</td>\n",
       "      <td>1</td>\n",
       "    </tr>\n",
       "    <tr>\n",
       "      <th>3</th>\n",
       "      <td>895</td>\n",
       "      <td>3</td>\n",
       "      <td>Wirz, Mr. Albert</td>\n",
       "      <td>male</td>\n",
       "      <td>27.0</td>\n",
       "      <td>0</td>\n",
       "      <td>0</td>\n",
       "      <td>315154</td>\n",
       "      <td>8.6625</td>\n",
       "      <td>NaN</td>\n",
       "      <td>S</td>\n",
       "      <td>1</td>\n",
       "    </tr>\n",
       "    <tr>\n",
       "      <th>4</th>\n",
       "      <td>896</td>\n",
       "      <td>3</td>\n",
       "      <td>Hirvonen, Mrs. Alexander (Helga E Lindqvist)</td>\n",
       "      <td>female</td>\n",
       "      <td>22.0</td>\n",
       "      <td>1</td>\n",
       "      <td>1</td>\n",
       "      <td>3101298</td>\n",
       "      <td>12.2875</td>\n",
       "      <td>NaN</td>\n",
       "      <td>S</td>\n",
       "      <td>0</td>\n",
       "    </tr>\n",
       "  </tbody>\n",
       "</table>\n",
       "</div>"
      ],
      "text/plain": [
       "   PassengerId  Pclass                                          Name     Sex  \\\n",
       "0          892       3                              Kelly, Mr. James    male   \n",
       "1          893       3              Wilkes, Mrs. James (Ellen Needs)  female   \n",
       "2          894       2                     Myles, Mr. Thomas Francis    male   \n",
       "3          895       3                              Wirz, Mr. Albert    male   \n",
       "4          896       3  Hirvonen, Mrs. Alexander (Helga E Lindqvist)  female   \n",
       "\n",
       "    Age  SibSp  Parch   Ticket     Fare Cabin Embarked  Sex_encoded  \n",
       "0  34.5      0      0   330911   7.8292   NaN        Q            1  \n",
       "1  47.0      1      0   363272   7.0000   NaN        S            0  \n",
       "2  62.0      0      0   240276   9.6875   NaN        Q            1  \n",
       "3  27.0      0      0   315154   8.6625   NaN        S            1  \n",
       "4  22.0      1      1  3101298  12.2875   NaN        S            0  "
      ]
     },
     "execution_count": 69,
     "metadata": {},
     "output_type": "execute_result"
    }
   ],
   "source": [
    "test.head()"
   ]
  },
  {
   "cell_type": "code",
   "execution_count": 66,
   "metadata": {
    "execution": {
     "iopub.execute_input": "2023-02-25T23:11:38.898453Z",
     "iopub.status.busy": "2023-02-25T23:11:38.897456Z",
     "iopub.status.idle": "2023-02-25T23:11:38.905750Z",
     "shell.execute_reply": "2023-02-25T23:11:38.904933Z",
     "shell.execute_reply.started": "2023-02-25T23:11:38.898405Z"
    }
   },
   "outputs": [
    {
     "data": {
      "text/plain": [
       "(891, 12)"
      ]
     },
     "execution_count": 66,
     "metadata": {},
     "output_type": "execute_result"
    }
   ],
   "source": [
    "train.shape"
   ]
  },
  {
   "cell_type": "code",
   "execution_count": 67,
   "metadata": {
    "execution": {
     "iopub.execute_input": "2023-02-25T23:11:39.845288Z",
     "iopub.status.busy": "2023-02-25T23:11:39.844876Z",
     "iopub.status.idle": "2023-02-25T23:11:39.853899Z",
     "shell.execute_reply": "2023-02-25T23:11:39.852689Z",
     "shell.execute_reply.started": "2023-02-25T23:11:39.845251Z"
    }
   },
   "outputs": [],
   "source": [
    "from sklearn.preprocessing import LabelEncoder\n",
    "\n",
    "le = LabelEncoder()\n",
    "le.fit(train['Sex'])\n",
    "le.fit(test['Sex'])\n",
    "# Transform the gender column\n",
    "train['Sex_encoded'] = le.transform(train['Sex'])\n",
    "test['Sex_encoded'] = le.transform(test['Sex'])"
   ]
  },
  {
   "cell_type": "code",
   "execution_count": 72,
   "metadata": {
    "execution": {
     "iopub.execute_input": "2023-02-25T23:14:21.289411Z",
     "iopub.status.busy": "2023-02-25T23:14:21.288995Z",
     "iopub.status.idle": "2023-02-25T23:14:21.296112Z",
     "shell.execute_reply": "2023-02-25T23:14:21.294987Z",
     "shell.execute_reply.started": "2023-02-25T23:14:21.289377Z"
    }
   },
   "outputs": [],
   "source": [
    "X_train_full = train.drop(labels=[\"Name\", \"PassengerId\", \"Ticket\", \"Cabin\", \"Embarked\", \"Survived\", \"Sex\"], axis=1)\n",
    "Y_train_full = train[\"Survived\"]"
   ]
  },
  {
   "cell_type": "code",
   "execution_count": 74,
   "metadata": {
    "execution": {
     "iopub.execute_input": "2023-02-25T23:14:26.674126Z",
     "iopub.status.busy": "2023-02-25T23:14:26.672939Z",
     "iopub.status.idle": "2023-02-25T23:14:26.692637Z",
     "shell.execute_reply": "2023-02-25T23:14:26.691318Z",
     "shell.execute_reply.started": "2023-02-25T23:14:26.674066Z"
    }
   },
   "outputs": [
    {
     "data": {
      "text/html": [
       "<div>\n",
       "<style scoped>\n",
       "    .dataframe tbody tr th:only-of-type {\n",
       "        vertical-align: middle;\n",
       "    }\n",
       "\n",
       "    .dataframe tbody tr th {\n",
       "        vertical-align: top;\n",
       "    }\n",
       "\n",
       "    .dataframe thead th {\n",
       "        text-align: right;\n",
       "    }\n",
       "</style>\n",
       "<table border=\"1\" class=\"dataframe\">\n",
       "  <thead>\n",
       "    <tr style=\"text-align: right;\">\n",
       "      <th></th>\n",
       "      <th>Pclass</th>\n",
       "      <th>Age</th>\n",
       "      <th>SibSp</th>\n",
       "      <th>Parch</th>\n",
       "      <th>Fare</th>\n",
       "      <th>Sex_encoded</th>\n",
       "    </tr>\n",
       "  </thead>\n",
       "  <tbody>\n",
       "    <tr>\n",
       "      <th>0</th>\n",
       "      <td>3</td>\n",
       "      <td>22.0</td>\n",
       "      <td>1</td>\n",
       "      <td>0</td>\n",
       "      <td>7.2500</td>\n",
       "      <td>1</td>\n",
       "    </tr>\n",
       "    <tr>\n",
       "      <th>1</th>\n",
       "      <td>1</td>\n",
       "      <td>38.0</td>\n",
       "      <td>1</td>\n",
       "      <td>0</td>\n",
       "      <td>71.2833</td>\n",
       "      <td>0</td>\n",
       "    </tr>\n",
       "    <tr>\n",
       "      <th>2</th>\n",
       "      <td>3</td>\n",
       "      <td>26.0</td>\n",
       "      <td>0</td>\n",
       "      <td>0</td>\n",
       "      <td>7.9250</td>\n",
       "      <td>0</td>\n",
       "    </tr>\n",
       "    <tr>\n",
       "      <th>3</th>\n",
       "      <td>1</td>\n",
       "      <td>35.0</td>\n",
       "      <td>1</td>\n",
       "      <td>0</td>\n",
       "      <td>53.1000</td>\n",
       "      <td>0</td>\n",
       "    </tr>\n",
       "    <tr>\n",
       "      <th>4</th>\n",
       "      <td>3</td>\n",
       "      <td>35.0</td>\n",
       "      <td>0</td>\n",
       "      <td>0</td>\n",
       "      <td>8.0500</td>\n",
       "      <td>1</td>\n",
       "    </tr>\n",
       "  </tbody>\n",
       "</table>\n",
       "</div>"
      ],
      "text/plain": [
       "   Pclass   Age  SibSp  Parch     Fare  Sex_encoded\n",
       "0       3  22.0      1      0   7.2500            1\n",
       "1       1  38.0      1      0  71.2833            0\n",
       "2       3  26.0      0      0   7.9250            0\n",
       "3       1  35.0      1      0  53.1000            0\n",
       "4       3  35.0      0      0   8.0500            1"
      ]
     },
     "execution_count": 74,
     "metadata": {},
     "output_type": "execute_result"
    }
   ],
   "source": [
    "X_train_full = X_train_full.fillna(0)\n",
    "X_train_full.head()"
   ]
  },
  {
   "cell_type": "code",
   "execution_count": 75,
   "metadata": {
    "execution": {
     "iopub.execute_input": "2023-02-25T23:14:34.609003Z",
     "iopub.status.busy": "2023-02-25T23:14:34.608591Z",
     "iopub.status.idle": "2023-02-25T23:14:34.618407Z",
     "shell.execute_reply": "2023-02-25T23:14:34.617059Z",
     "shell.execute_reply.started": "2023-02-25T23:14:34.608950Z"
    }
   },
   "outputs": [],
   "source": [
    "from sklearn.preprocessing import StandardScaler\n",
    "scaler = StandardScaler()\n",
    "X_train_full = scaler.fit_transform(X_train_full)"
   ]
  },
  {
   "cell_type": "code",
   "execution_count": 83,
   "metadata": {
    "execution": {
     "iopub.execute_input": "2023-02-25T23:15:42.884547Z",
     "iopub.status.busy": "2023-02-25T23:15:42.884144Z",
     "iopub.status.idle": "2023-02-25T23:15:42.891544Z",
     "shell.execute_reply": "2023-02-25T23:15:42.890355Z",
     "shell.execute_reply.started": "2023-02-25T23:15:42.884512Z"
    }
   },
   "outputs": [],
   "source": [
    "from sklearn.model_selection import train_test_split \n",
    "X_train, X_valid, Y_train, Y_valid = train_test_split(X_train_full, Y_train_full)"
   ]
  },
  {
   "cell_type": "code",
   "execution_count": 84,
   "metadata": {
    "execution": {
     "iopub.execute_input": "2023-02-25T23:15:44.266736Z",
     "iopub.status.busy": "2023-02-25T23:15:44.265991Z",
     "iopub.status.idle": "2023-02-25T23:15:44.270803Z",
     "shell.execute_reply": "2023-02-25T23:15:44.270027Z",
     "shell.execute_reply.started": "2023-02-25T23:15:44.266693Z"
    }
   },
   "outputs": [],
   "source": [
    "import tensorflow as tf\n",
    "from tensorflow import keras"
   ]
  },
  {
   "cell_type": "code",
   "execution_count": 85,
   "metadata": {
    "execution": {
     "iopub.execute_input": "2023-02-25T23:15:45.087793Z",
     "iopub.status.busy": "2023-02-25T23:15:45.087343Z",
     "iopub.status.idle": "2023-02-25T23:15:45.093236Z",
     "shell.execute_reply": "2023-02-25T23:15:45.091947Z",
     "shell.execute_reply.started": "2023-02-25T23:15:45.087754Z"
    }
   },
   "outputs": [],
   "source": [
    "Y_train = Y_train.values"
   ]
  },
  {
   "cell_type": "code",
   "execution_count": 86,
   "metadata": {
    "execution": {
     "iopub.execute_input": "2023-02-25T23:15:46.045545Z",
     "iopub.status.busy": "2023-02-25T23:15:46.044404Z",
     "iopub.status.idle": "2023-02-25T23:15:46.051170Z",
     "shell.execute_reply": "2023-02-25T23:15:46.050238Z",
     "shell.execute_reply.started": "2023-02-25T23:15:46.045494Z"
    }
   },
   "outputs": [
    {
     "name": "stdout",
     "output_type": "stream",
     "text": [
      "(668, 6) (668,)\n"
     ]
    }
   ],
   "source": [
    "print(X_train.shape, Y_train.shape)"
   ]
  },
  {
   "cell_type": "code",
   "execution_count": 91,
   "metadata": {
    "execution": {
     "iopub.execute_input": "2023-02-25T23:16:28.336257Z",
     "iopub.status.busy": "2023-02-25T23:16:28.335145Z",
     "iopub.status.idle": "2023-02-25T23:16:28.366917Z",
     "shell.execute_reply": "2023-02-25T23:16:28.365722Z",
     "shell.execute_reply.started": "2023-02-25T23:16:28.336212Z"
    }
   },
   "outputs": [],
   "source": [
    "model = keras.models.Sequential([\n",
    "    keras.layers.Dense(16, activation=\"relu\", input_shape=X_train.shape[1:]),\n",
    "    keras.layers.Dense(1, activation=\"sigmoid\")\n",
    "])"
   ]
  },
  {
   "cell_type": "code",
   "execution_count": 93,
   "metadata": {
    "execution": {
     "iopub.execute_input": "2023-02-25T23:16:42.014011Z",
     "iopub.status.busy": "2023-02-25T23:16:42.013212Z",
     "iopub.status.idle": "2023-02-25T23:16:42.027413Z",
     "shell.execute_reply": "2023-02-25T23:16:42.026203Z",
     "shell.execute_reply.started": "2023-02-25T23:16:42.013955Z"
    }
   },
   "outputs": [],
   "source": [
    "model.compile(loss='binary_crossentropy', optimizer='adam', metrics=['accuracy'])"
   ]
  },
  {
   "cell_type": "code",
   "execution_count": 94,
   "metadata": {
    "execution": {
     "iopub.execute_input": "2023-02-25T23:16:49.385670Z",
     "iopub.status.busy": "2023-02-25T23:16:49.384442Z",
     "iopub.status.idle": "2023-02-25T23:16:52.464782Z",
     "shell.execute_reply": "2023-02-25T23:16:52.463934Z",
     "shell.execute_reply.started": "2023-02-25T23:16:49.385625Z"
    }
   },
   "outputs": [
    {
     "name": "stdout",
     "output_type": "stream",
     "text": [
      "Epoch 1/30\n",
      "21/21 [==============================] - 1s 12ms/step - loss: 0.7164 - accuracy: 0.5898 - val_loss: 0.6876 - val_accuracy: 0.6233\n",
      "Epoch 2/30\n",
      "21/21 [==============================] - 0s 4ms/step - loss: 0.6707 - accuracy: 0.6033 - val_loss: 0.6405 - val_accuracy: 0.6413\n",
      "Epoch 3/30\n",
      "21/21 [==============================] - 0s 3ms/step - loss: 0.6325 - accuracy: 0.6257 - val_loss: 0.6037 - val_accuracy: 0.6996\n",
      "Epoch 4/30\n",
      "21/21 [==============================] - 0s 3ms/step - loss: 0.6030 - accuracy: 0.6662 - val_loss: 0.5738 - val_accuracy: 0.7220\n",
      "Epoch 5/30\n",
      "21/21 [==============================] - 0s 3ms/step - loss: 0.5782 - accuracy: 0.7051 - val_loss: 0.5494 - val_accuracy: 0.7444\n",
      "Epoch 6/30\n",
      "21/21 [==============================] - 0s 3ms/step - loss: 0.5574 - accuracy: 0.7515 - val_loss: 0.5305 - val_accuracy: 0.7668\n",
      "Epoch 7/30\n",
      "21/21 [==============================] - 0s 3ms/step - loss: 0.5398 - accuracy: 0.7829 - val_loss: 0.5158 - val_accuracy: 0.7803\n",
      "Epoch 8/30\n",
      "21/21 [==============================] - 0s 3ms/step - loss: 0.5263 - accuracy: 0.7889 - val_loss: 0.5018 - val_accuracy: 0.7623\n",
      "Epoch 9/30\n",
      "21/21 [==============================] - 0s 3ms/step - loss: 0.5134 - accuracy: 0.7889 - val_loss: 0.4913 - val_accuracy: 0.7758\n",
      "Epoch 10/30\n",
      "21/21 [==============================] - 0s 3ms/step - loss: 0.5027 - accuracy: 0.7919 - val_loss: 0.4830 - val_accuracy: 0.7803\n",
      "Epoch 11/30\n",
      "21/21 [==============================] - 0s 4ms/step - loss: 0.4941 - accuracy: 0.7979 - val_loss: 0.4759 - val_accuracy: 0.7937\n",
      "Epoch 12/30\n",
      "21/21 [==============================] - 0s 3ms/step - loss: 0.4869 - accuracy: 0.7964 - val_loss: 0.4693 - val_accuracy: 0.7758\n",
      "Epoch 13/30\n",
      "21/21 [==============================] - 0s 3ms/step - loss: 0.4803 - accuracy: 0.7949 - val_loss: 0.4638 - val_accuracy: 0.7803\n",
      "Epoch 14/30\n",
      "21/21 [==============================] - 0s 3ms/step - loss: 0.4753 - accuracy: 0.8009 - val_loss: 0.4592 - val_accuracy: 0.7803\n",
      "Epoch 15/30\n",
      "21/21 [==============================] - 0s 3ms/step - loss: 0.4707 - accuracy: 0.7994 - val_loss: 0.4548 - val_accuracy: 0.7758\n",
      "Epoch 16/30\n",
      "21/21 [==============================] - 0s 3ms/step - loss: 0.4662 - accuracy: 0.8009 - val_loss: 0.4506 - val_accuracy: 0.7758\n",
      "Epoch 17/30\n",
      "21/21 [==============================] - 0s 4ms/step - loss: 0.4629 - accuracy: 0.8009 - val_loss: 0.4479 - val_accuracy: 0.7803\n",
      "Epoch 18/30\n",
      "21/21 [==============================] - 0s 3ms/step - loss: 0.4599 - accuracy: 0.8009 - val_loss: 0.4460 - val_accuracy: 0.7758\n",
      "Epoch 19/30\n",
      "21/21 [==============================] - 0s 3ms/step - loss: 0.4565 - accuracy: 0.8024 - val_loss: 0.4437 - val_accuracy: 0.7803\n",
      "Epoch 20/30\n",
      "21/21 [==============================] - 0s 3ms/step - loss: 0.4544 - accuracy: 0.8024 - val_loss: 0.4420 - val_accuracy: 0.7803\n",
      "Epoch 21/30\n",
      "21/21 [==============================] - 0s 3ms/step - loss: 0.4524 - accuracy: 0.8024 - val_loss: 0.4401 - val_accuracy: 0.7803\n",
      "Epoch 22/30\n",
      "21/21 [==============================] - 0s 3ms/step - loss: 0.4502 - accuracy: 0.8039 - val_loss: 0.4388 - val_accuracy: 0.7848\n",
      "Epoch 23/30\n",
      "21/21 [==============================] - 0s 3ms/step - loss: 0.4487 - accuracy: 0.8039 - val_loss: 0.4378 - val_accuracy: 0.7848\n",
      "Epoch 24/30\n",
      "21/21 [==============================] - 0s 3ms/step - loss: 0.4480 - accuracy: 0.8024 - val_loss: 0.4364 - val_accuracy: 0.7848\n",
      "Epoch 25/30\n",
      "21/21 [==============================] - 0s 4ms/step - loss: 0.4459 - accuracy: 0.8039 - val_loss: 0.4351 - val_accuracy: 0.7848\n",
      "Epoch 26/30\n",
      "21/21 [==============================] - 0s 3ms/step - loss: 0.4448 - accuracy: 0.8039 - val_loss: 0.4340 - val_accuracy: 0.7848\n",
      "Epoch 27/30\n",
      "21/21 [==============================] - 0s 3ms/step - loss: 0.4436 - accuracy: 0.8054 - val_loss: 0.4330 - val_accuracy: 0.7892\n",
      "Epoch 28/30\n",
      "21/21 [==============================] - 0s 3ms/step - loss: 0.4427 - accuracy: 0.8069 - val_loss: 0.4322 - val_accuracy: 0.7892\n",
      "Epoch 29/30\n",
      "21/21 [==============================] - 0s 3ms/step - loss: 0.4417 - accuracy: 0.8054 - val_loss: 0.4317 - val_accuracy: 0.7892\n",
      "Epoch 30/30\n",
      "21/21 [==============================] - 0s 4ms/step - loss: 0.4406 - accuracy: 0.8069 - val_loss: 0.4304 - val_accuracy: 0.7892\n"
     ]
    }
   ],
   "source": [
    "history = model.fit(X_train, Y_train, epochs=30, validation_data=(X_valid, Y_valid))"
   ]
  }
 ],
 "metadata": {
  "kernelspec": {
   "display_name": "Python 3 (ipykernel)",
   "language": "python",
   "name": "python3"
  },
  "language_info": {
   "codemirror_mode": {
    "name": "ipython",
    "version": 3
   },
   "file_extension": ".py",
   "mimetype": "text/x-python",
   "name": "python",
   "nbconvert_exporter": "python",
   "pygments_lexer": "ipython3",
   "version": "3.10.9"
  }
 },
 "nbformat": 4,
 "nbformat_minor": 4
}
